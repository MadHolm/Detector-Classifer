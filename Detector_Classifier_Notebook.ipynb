{
  "nbformat": 4,
  "nbformat_minor": 0,
  "metadata": {
    "colab": {
      "name": "Detector_Classifier_Notebook.ipynb",
      "provenance": [],
      "collapsed_sections": [],
      "toc_visible": true
    },
    "kernelspec": {
      "display_name": "Python 3",
      "name": "python3"
    },
    "accelerator": "GPU"
  },
  "cells": [
    {
      "cell_type": "markdown",
      "metadata": {
        "id": "gb7WRV4HXQ-v"
      },
      "source": [
        "# Detector - Object Detection"
      ]
    },
    {
      "cell_type": "markdown",
      "metadata": {
        "id": "46lXVdKDXWIO"
      },
      "source": [
        "## Dataset"
      ]
    },
    {
      "cell_type": "markdown",
      "metadata": {
        "id": "WrCNp_VbY1RK"
      },
      "source": [
        "First - let's download the dataset from - https://www.robots.ox.ac.uk/~vgg/data/pets/\n",
        "\n",
        "This dataset contains different breeds of cats and dogs with xml annotations for object detection."
      ]
    },
    {
      "cell_type": "code",
      "metadata": {
        "colab": {
          "base_uri": "https://localhost:8080/"
        },
        "id": "Xq66CRTbXLj1",
        "outputId": "5892d88b-49bf-465c-8b4b-6078efa83a57"
      },
      "source": [
        "%cd /content/\n",
        "!wget https://www.robots.ox.ac.uk/~vgg/data/pets/data/images.tar.gz"
      ],
      "execution_count": null,
      "outputs": [
        {
          "output_type": "stream",
          "text": [
            "/content\n",
            "--2021-03-09 09:23:56--  https://www.robots.ox.ac.uk/~vgg/data/pets/data/images.tar.gz\n",
            "Resolving www.robots.ox.ac.uk (www.robots.ox.ac.uk)... 129.67.94.2\n",
            "Connecting to www.robots.ox.ac.uk (www.robots.ox.ac.uk)|129.67.94.2|:443... connected.\n",
            "HTTP request sent, awaiting response... 200 OK\n",
            "Length: 791918971 (755M) [application/x-gzip]\n",
            "Saving to: ‘images.tar.gz’\n",
            "\n",
            "images.tar.gz       100%[===================>] 755.23M  21.3MB/s    in 36s     \n",
            "\n",
            "2021-03-09 09:24:33 (20.8 MB/s) - ‘images.tar.gz’ saved [791918971/791918971]\n",
            "\n"
          ],
          "name": "stdout"
        }
      ]
    },
    {
      "cell_type": "code",
      "metadata": {
        "colab": {
          "base_uri": "https://localhost:8080/"
        },
        "id": "xmI5iPr1XiH4",
        "outputId": "33c3b0e1-b9eb-448f-e592-a49375d0156c"
      },
      "source": [
        "!wget https://www.robots.ox.ac.uk/~vgg/data/pets/data/annotations.tar.gz"
      ],
      "execution_count": null,
      "outputs": [
        {
          "output_type": "stream",
          "text": [
            "--2021-03-09 09:24:33--  https://www.robots.ox.ac.uk/~vgg/data/pets/data/annotations.tar.gz\n",
            "Resolving www.robots.ox.ac.uk (www.robots.ox.ac.uk)... 129.67.94.2\n",
            "Connecting to www.robots.ox.ac.uk (www.robots.ox.ac.uk)|129.67.94.2|:443... connected.\n",
            "HTTP request sent, awaiting response... 200 OK\n",
            "Length: 19173078 (18M) [application/x-gzip]\n",
            "Saving to: ‘annotations.tar.gz’\n",
            "\n",
            "annotations.tar.gz  100%[===================>]  18.28M  10.9MB/s    in 1.7s    \n",
            "\n",
            "2021-03-09 09:24:35 (10.9 MB/s) - ‘annotations.tar.gz’ saved [19173078/19173078]\n",
            "\n"
          ],
          "name": "stdout"
        }
      ]
    },
    {
      "cell_type": "code",
      "metadata": {
        "id": "a_e3eVA7XyjL"
      },
      "source": [
        "import tarfile\n",
        "\n",
        "for archive in ['/content/annotations.tar.gz', '/content/images.tar.gz']:\n",
        "  if archive.endswith(\"tar.gz\"):\n",
        "      tar = tarfile.open(archive, \"r:gz\")\n",
        "      tar.extractall()\n",
        "      tar.close()"
      ],
      "execution_count": null,
      "outputs": []
    },
    {
      "cell_type": "markdown",
      "metadata": {
        "id": "juMwlf6B8Ncx"
      },
      "source": [
        "There is a difference in amount of jpg and xml files, meaning some of the images are missing annotations. "
      ]
    },
    {
      "cell_type": "code",
      "metadata": {
        "colab": {
          "base_uri": "https://localhost:8080/"
        },
        "id": "VhXwLnKgLanv",
        "outputId": "839cb383-4db4-46bc-b613-d684418ec168"
      },
      "source": [
        "len(os.listdir('/content/annotations/xmls'))"
      ],
      "execution_count": null,
      "outputs": [
        {
          "output_type": "execute_result",
          "data": {
            "text/plain": [
              "3686"
            ]
          },
          "metadata": {
            "tags": []
          },
          "execution_count": 28
        }
      ]
    },
    {
      "cell_type": "code",
      "metadata": {
        "colab": {
          "base_uri": "https://localhost:8080/"
        },
        "id": "avX-Bzt6LjpE",
        "outputId": "0d7c1c6b-e155-4297-fe7c-f503820463b2"
      },
      "source": [
        "len(os.listdir('/content/images'))"
      ],
      "execution_count": null,
      "outputs": [
        {
          "output_type": "execute_result",
          "data": {
            "text/plain": [
              "7393"
            ]
          },
          "metadata": {
            "tags": []
          },
          "execution_count": 29
        }
      ]
    },
    {
      "cell_type": "markdown",
      "metadata": {
        "id": "i-Stc1wnZbwR"
      },
      "source": [
        "Let's isolate only cats data from the dataset. We need a list of cat breeds to isolate cat data from the cats'n'dogs dataset. We'll keep three breeds out of our initial training data set so that we can add them later, and our models would never see those breeds before. This will help us evaluate how well our detector can evaluate on what a cat in general is, rather than learn to recognize breeds we showed it during training."
      ]
    },
    {
      "cell_type": "code",
      "metadata": {
        "id": "7aqWyXHWYAVN"
      },
      "source": [
        "# Two-word names aare without spaces, otherwise the code will omit them\n",
        "cat_breeds = ['Abyssinian', 'Bengal', 'Birman', 'Bombay', 'BritishShorthair', 'EgyptianMau', 'MaineCoon', 'Siamese', 'Sphynx']"
      ],
      "execution_count": null,
      "outputs": []
    },
    {
      "cell_type": "code",
      "metadata": {
        "id": "x2gSYMiIaIPG"
      },
      "source": [
        "import shutil\n",
        "import re\n",
        "import os\n",
        "\n",
        "cat_dataset_dir = '/content/cat_data/'\n",
        "added_cat_dataset_dir = '/content/added_cat_data/'\n",
        "\n",
        "try: \n",
        "  os.mkdir(cat_dataset_dir)\n",
        "  os.mkdir(added_cat_dataset_dir)\n",
        "except OSError as error: \n",
        "  pass \n",
        "\n",
        "# Copy annotations first\n",
        "annotations_folder = '/content/annotations/xmls'\n",
        "for file in os.listdir(annotations_folder):\n",
        "  species = re.sub('[^a-zA-Z]+', '', file[:-4])\n",
        "  if species in cat_breeds:\n",
        "    shutil.copyfile(os.path.join(annotations_folder, file), os.path.join(cat_dataset_dir, file))\n",
        "\n",
        "# Copy images based on annotations we copied in the previous step. This way we \n",
        "# avoid images for which xml. annotions are missing. \n",
        "images_folder = '/content/images'\n",
        "for file in os.listdir(cat_dataset_dir):\n",
        "  file_name = file[:-3] + 'jpg'\n",
        "  shutil.copyfile(os.path.join(images_folder, file_name), os.path.join(cat_dataset_dir, file_name))"
      ],
      "execution_count": null,
      "outputs": []
    },
    {
      "cell_type": "markdown",
      "metadata": {
        "id": "zABHCB7NC6n6"
      },
      "source": [
        "## Model architecture - TensorFlow Object Detection API"
      ]
    },
    {
      "cell_type": "markdown",
      "metadata": {
        "id": "yL68KIInXyY6"
      },
      "source": [
        "### Installing required libraries and scripts"
      ]
    },
    {
      "cell_type": "markdown",
      "metadata": {
        "id": "B3Zduo7mXH-M"
      },
      "source": [
        "Let's make a folder for our Detector model and download a few necessary files there."
      ]
    },
    {
      "cell_type": "code",
      "metadata": {
        "id": "QQiMcmrwRfFA"
      },
      "source": [
        "import os\n",
        "\n",
        "detector_model_dir = '/content/Detector_Model/'\n",
        "scripts_dir = '/content/Detector_Model/scripts'\n",
        "\n",
        "try: \n",
        "  os.mkdir(detector_model_dir)\n",
        "  os.mkdir(scripts_dir)\n",
        "except OSError as error: \n",
        "  pass "
      ],
      "execution_count": null,
      "outputs": []
    },
    {
      "cell_type": "markdown",
      "metadata": {
        "id": "MCAnJNl5DBhk"
      },
      "source": [
        "Now we can move onto building our detector. We're gonna use TensorFlow's Object Detection API - a robust library for object detection applications."
      ]
    },
    {
      "cell_type": "code",
      "metadata": {
        "colab": {
          "base_uri": "https://localhost:8080/"
        },
        "id": "he6nDIhwNcKX",
        "outputId": "51220ae5-f973-438e-d5b8-57716dafb933"
      },
      "source": [
        "from IPython.display import clear_output\n",
        "\n",
        "%cd /content\n",
        "!git clone --quiet https://github.com/tensorflow/models.git\n",
        "\n",
        "!apt-get install -qq protobuf-compiler python-pil python-lxml python-tk\n",
        "\n",
        "!pip install -q Cython contextlib2 pillow lxml matplotlib tf_slim lvis\n",
        "\n",
        "!pip install -q pycocotools\n",
        "\n",
        "!pip install -q tensorflow_addons\n",
        "\n",
        "%cd /content/models/research\n",
        "!protoc object_detection/protos/*.proto --python_out=.\n",
        "\n",
        "%set_env PYTHONPATH=/content/models/research:/content/models/research/slim\n",
        "import os\n",
        "os.environ['PYTHONPATH'] += \":/content/models\"\n",
        "import sys\n",
        "sys.path.append(\"/content/models\")\n",
        "\n",
        "clear_output()\n",
        "!python object_detection/builders/model_builder_test.py"
      ],
      "execution_count": null,
      "outputs": [
        {
          "output_type": "stream",
          "text": [
            "/content\n"
          ],
          "name": "stdout"
        }
      ]
    },
    {
      "cell_type": "code",
      "metadata": {
        "id": "qUf7i7_kIZAU"
      },
      "source": [
        "!python /content/Detector_Model/models/research/object_detection/builders/model_builder_tf2_test.py"
      ],
      "execution_count": null,
      "outputs": []
    },
    {
      "cell_type": "markdown",
      "metadata": {
        "id": "hthLsTXlX7Zx"
      },
      "source": [
        "### Dataset"
      ]
    },
    {
      "cell_type": "markdown",
      "metadata": {
        "id": "TQA6pLLhXOAb"
      },
      "source": [
        "This script splits out dataset into training and testing parts."
      ]
    },
    {
      "cell_type": "code",
      "metadata": {
        "colab": {
          "base_uri": "https://localhost:8080/"
        },
        "id": "G1A0yuvta0i5",
        "outputId": "1c7ee582-bc64-4a3b-9f5f-4e4223e4a15a"
      },
      "source": [
        "!wget -O '{scripts_dir}/partition_dataset.py' https://tensorflow-object-detection-api-tutorial.readthedocs.io/en/latest/_downloads/d0e545609c5f7f49f39abc7b6a38cec3/partition_dataset.py "
      ],
      "execution_count": null,
      "outputs": [
        {
          "output_type": "stream",
          "text": [
            "--2021-02-22 22:12:56--  https://tensorflow-object-detection-api-tutorial.readthedocs.io/en/latest/_downloads/d0e545609c5f7f49f39abc7b6a38cec3/partition_dataset.py\n",
            "Resolving tensorflow-object-detection-api-tutorial.readthedocs.io (tensorflow-object-detection-api-tutorial.readthedocs.io)... 104.17.33.82, 104.17.32.82, 2606:4700::6811:2052, ...\n",
            "Connecting to tensorflow-object-detection-api-tutorial.readthedocs.io (tensorflow-object-detection-api-tutorial.readthedocs.io)|104.17.33.82|:443... connected.\n",
            "HTTP request sent, awaiting response... 200 OK\n",
            "Length: 3577 (3.5K) [text/x-python]\n",
            "Saving to: ‘/content/Detector_Model/scripts/partition_dataset.py’\n",
            "\n",
            "/content/Detector_M 100%[===================>]   3.49K  --.-KB/s    in 0s      \n",
            "\n",
            "2021-02-22 22:12:56 (37.2 MB/s) - ‘/content/Detector_Model/scripts/partition_dataset.py’ saved [3577/3577]\n",
            "\n"
          ],
          "name": "stdout"
        }
      ]
    },
    {
      "cell_type": "code",
      "metadata": {
        "id": "k4330T4dYiQl"
      },
      "source": [
        "!python '{scripts_dir}/partition_dataset.py' -x -i '{cat_dataset_dir}' -r 0.1"
      ],
      "execution_count": null,
      "outputs": []
    },
    {
      "cell_type": "markdown",
      "metadata": {
        "id": "SIkjk0EaXTvo"
      },
      "source": [
        "Next we need to tell our models what labels we have in our xml files - in this case there's just only one - cat."
      ]
    },
    {
      "cell_type": "code",
      "metadata": {
        "id": "3gsInTy1XanH"
      },
      "source": [
        "label_map_string = \"item {\\n\\tid: 1\\n\\tname: 'cat'\\n}\"\n",
        "with open(os.path.join(detector_model_dir, 'label_map.pbtxt'), \"w\") as text_file:\n",
        "    text_file.write(label_map_string)"
      ],
      "execution_count": null,
      "outputs": []
    },
    {
      "cell_type": "markdown",
      "metadata": {
        "id": "KF3QRGmLiDc8"
      },
      "source": [
        "And final dataset preparation step - let's convert out images into tf.record files."
      ]
    },
    {
      "cell_type": "code",
      "metadata": {
        "colab": {
          "base_uri": "https://localhost:8080/"
        },
        "id": "hnjC1--jX4Io",
        "outputId": "45a09e1c-0fbe-4e1a-e62c-5c52bee91e63"
      },
      "source": [
        "!wget -O '{scripts_dir}/generate_tfrecord.py' https://tensorflow-object-detection-api-tutorial.readthedocs.io/en/latest/_downloads/da4babe668a8afb093cc7776d7e630f3/generate_tfrecord.py"
      ],
      "execution_count": null,
      "outputs": [
        {
          "output_type": "stream",
          "text": [
            "--2021-02-22 22:12:57--  https://tensorflow-object-detection-api-tutorial.readthedocs.io/en/latest/_downloads/da4babe668a8afb093cc7776d7e630f3/generate_tfrecord.py\n",
            "Resolving tensorflow-object-detection-api-tutorial.readthedocs.io (tensorflow-object-detection-api-tutorial.readthedocs.io)... 104.17.33.82, 104.17.32.82, 2606:4700::6811:2052, ...\n",
            "Connecting to tensorflow-object-detection-api-tutorial.readthedocs.io (tensorflow-object-detection-api-tutorial.readthedocs.io)|104.17.33.82|:443... connected.\n",
            "HTTP request sent, awaiting response... 200 OK\n",
            "Length: 6231 (6.1K) [text/x-python]\n",
            "Saving to: ‘/content/Detector_Model/scripts/generate_tfrecord.py’\n",
            "\n",
            "/content/Detector_M 100%[===================>]   6.08K  --.-KB/s    in 0s      \n",
            "\n",
            "2021-02-22 22:12:57 (89.1 MB/s) - ‘/content/Detector_Model/scripts/generate_tfrecord.py’ saved [6231/6231]\n",
            "\n"
          ],
          "name": "stdout"
        }
      ]
    },
    {
      "cell_type": "code",
      "metadata": {
        "colab": {
          "base_uri": "https://localhost:8080/"
        },
        "id": "JUJ3-ULFiOFb",
        "outputId": "83dca753-c0e2-4489-8da2-e8237362d37d"
      },
      "source": [
        "# Create train data:\n",
        "!python '/content/Detector_Model/scripts/generate_tfrecord.py' -x '/content/cat_data/train' -l '/content/Detector_Model/label_map.pbtxt' -o '/content/Detector_Model/train.record'\n",
        "\n",
        "# Create test data:\n",
        "!python '/content/Detector_Model/scripts/generate_tfrecord.py' -x '/content/cat_data/test' -l '/content/Detector_Model/label_map.pbtxt' -o '/content/Detector_Model/test.record'"
      ],
      "execution_count": null,
      "outputs": [
        {
          "output_type": "stream",
          "text": [
            "Successfully created the TFRecord file: /content/Detector_Model/train.record\n",
            "Successfully created the TFRecord file: /content/Detector_Model/test.record\n"
          ],
          "name": "stdout"
        }
      ]
    },
    {
      "cell_type": "markdown",
      "metadata": {
        "id": "JNfQOD-hX-Cl"
      },
      "source": [
        "### Model"
      ]
    },
    {
      "cell_type": "code",
      "metadata": {
        "colab": {
          "base_uri": "https://localhost:8080/"
        },
        "id": "SMUZvMvOGOqo",
        "outputId": "a0d620e8-d658-42fc-e60a-c4207562cad2"
      },
      "source": [
        "# We need to set our default directory back to /content/\n",
        "%cd /content/\n",
        "\n",
        "# After that we can download our base model from the TensorFlow Zoo\n",
        "!wget http://download.tensorflow.org/models/object_detection/tf2/20200711/efficientdet_d2_coco17_tpu-32.tar.gz\n",
        "tar = tarfile.open('/content/efficientdet_d2_coco17_tpu-32.tar.gz', \"r:gz\")\n",
        "tar.extractall('/content/Detector_Model')\n",
        "tar.close()\n",
        "\n",
        "# Let's rename the directory\n",
        "os.rename('/content/Detector_Model/efficientdet_d2_coco17_tpu-32', '/content/Detector_Model/Cat_Detecor_model')"
      ],
      "execution_count": null,
      "outputs": [
        {
          "output_type": "stream",
          "text": [
            "/content\n",
            "--2021-02-22 22:13:02--  http://download.tensorflow.org/models/object_detection/tf2/20200711/efficientdet_d2_coco17_tpu-32.tar.gz\n",
            "Resolving download.tensorflow.org (download.tensorflow.org)... 74.125.195.128, 2607:f8b0:400e:c09::80\n",
            "Connecting to download.tensorflow.org (download.tensorflow.org)|74.125.195.128|:80... connected.\n",
            "HTTP request sent, awaiting response... 200 OK\n",
            "Length: 62929273 (60M) [application/x-tar]\n",
            "Saving to: ‘efficientdet_d2_coco17_tpu-32.tar.gz’\n",
            "\n",
            "efficientdet_d2_coc 100%[===================>]  60.01M   154MB/s    in 0.4s    \n",
            "\n",
            "2021-02-22 22:13:03 (154 MB/s) - ‘efficientdet_d2_coco17_tpu-32.tar.gz’ saved [62929273/62929273]\n",
            "\n"
          ],
          "name": "stdout"
        }
      ]
    },
    {
      "cell_type": "markdown",
      "metadata": {
        "id": "XVDUrfZI88_d"
      },
      "source": [
        "Modify these fields in the pipeline.config: \n",
        " - **num_classes** - set to 1 since we only want to detect one class - cat.\n",
        " - **path to label** - path to label_map.pbtxt file\n",
        " - **path to tf.records** - paths to the generated tf.record files\n",
        "\n",
        "For more information on how to train a TensorFlow Object Detection Model please refer to: https://tensorflow-object-detection-api-tutorial.readthedocs.io/en/latest/training.html"
      ]
    },
    {
      "cell_type": "markdown",
      "metadata": {
        "id": "rOGMPKKC_NNm"
      },
      "source": [
        "Next - we can launch the training. Remember that this can take a few hours on GPU - depending on the selected base model and quality of the dataset it cana take even longer to reach satisfactory accuracy."
      ]
    },
    {
      "cell_type": "code",
      "metadata": {
        "id": "N8slYc1Zcxfk"
      },
      "source": [
        "%cd /content/models/research/object_detection\n",
        "!python model_main_tf2.py \\\n",
        "--model_dir='/content/Detector_Model/Cat_Det_Model' \\\n",
        "--pipeline_config_path='/content/Detector_Model/Cat_Det_Model/pipeline.config'"
      ],
      "execution_count": null,
      "outputs": []
    },
    {
      "cell_type": "markdown",
      "metadata": {
        "id": "t5hE5wTb_ehe"
      },
      "source": [
        "After the training the model can be saved as .pb model which can then be used to run predictions with."
      ]
    },
    {
      "cell_type": "code",
      "metadata": {
        "id": "BWnKD_3l4dYu"
      },
      "source": [
        "!python '/content/models/research/object_detection/exporter_main_v2.py' \\\n",
        "--input_type image_tensor \\\n",
        "--pipeline_config_path '/content/Detector_Model/Cat_Det_Model/pipeline.config' \\\n",
        "--trained_checkpoint_dir '/content/Detector_Model/Cat_Det_Model' \\\n",
        "--output_directory '/content/Detector_Model/Cat_Det_Model_Saved'"
      ],
      "execution_count": null,
      "outputs": []
    },
    {
      "cell_type": "code",
      "metadata": {
        "id": "7KtSnDaE2M8T"
      },
      "source": [
        "The already trained model is available on the github repo."
      ],
      "execution_count": null,
      "outputs": []
    },
    {
      "cell_type": "markdown",
      "metadata": {
        "id": "grgEEeouz7uZ"
      },
      "source": [
        "# Classifier - Image Classification"
      ]
    },
    {
      "cell_type": "markdown",
      "metadata": {
        "id": "n02GsG3m0Cis"
      },
      "source": [
        "## Using detector to gather cutouts"
      ]
    },
    {
      "cell_type": "markdown",
      "metadata": {
        "id": "iRoipbT2ANhS"
      },
      "source": [
        "Since now we don't need annotation files, we don't need to limit our training to the files which have the annotation file."
      ]
    },
    {
      "cell_type": "code",
      "metadata": {
        "id": "I4dy3NeuUaXJ"
      },
      "source": [
        "!rm -r /content/cat_data"
      ],
      "execution_count": null,
      "outputs": []
    },
    {
      "cell_type": "code",
      "metadata": {
        "id": "3YW50wdMANBL"
      },
      "source": [
        "import shutil\n",
        "import re\n",
        "import os\n",
        "\n",
        "# To train the basic 6-class model:\n",
        "cat_breeds = ['Abyssinian', 'Bengal', 'Birman', 'Bombay', 'Siamese', 'Sphynx']\n",
        "# Or feel free to establish your own list of breeds to use in the training.\n",
        "\n",
        "cat_dataset_dir = '/content/cat_data/'\n",
        "\n",
        "try: \n",
        "  os.mkdir(cat_dataset_dir)\n",
        "except OSError as error: \n",
        "  pass \n",
        "\n",
        "# This time we copy all files - no matter if they have annotations or not, we don't need them.\n",
        "images_folder = '/content/images'\n",
        "for file_name in os.listdir(images_folder):\n",
        "  species = re.sub('[^a-zA-Z]+', '', file_name[:-4])\n",
        "  if species in cat_breeds:\n",
        "    # print(os.path.join(cat_dataset_dir, file_name))\n",
        "    shutil.copyfile(os.path.join(images_folder, file_name), os.path.join(cat_dataset_dir, file_name))"
      ],
      "execution_count": null,
      "outputs": []
    },
    {
      "cell_type": "markdown",
      "metadata": {
        "id": "ubfbs6wp-BGD"
      },
      "source": [
        "Let's create folders for the classifier."
      ]
    },
    {
      "cell_type": "code",
      "metadata": {
        "id": "EdrLvA7m-GOC"
      },
      "source": [
        "# Those names we want to keep spaces between the double names. This list should \n",
        "# have the same breeds as those isolated above. For example\n",
        "# cat_breeds_ds = ['Maine Coon', 'British Shorthair]\n",
        "cat_breeds_ds = ['Abyssinian', 'Bengal', 'Birman', 'Bombay', 'Siamese', 'Sphynx']\n",
        "\n",
        "classifier_model_path = '/content/Classifier_Model'\n",
        "classifier_model_ds_path = '/content/Classifier_Model/dataset'\n",
        "\n",
        "os.mkdir(classifier_model_path)\n",
        "os.mkdir(classifier_model_ds_path)\n",
        "\n",
        "# Here we create folders for each breed. This is where cutouts from the detector\n",
        "# will be saved.\n",
        "for breed in cat_breeds_ds:\n",
        "  breed_path = os.path.join(classifier_model_ds_path, breed)\n",
        "  try: \n",
        "    os.mkdir(breed_path)\n",
        "  except OSError as error: \n",
        "    pass "
      ],
      "execution_count": 17,
      "outputs": []
    },
    {
      "cell_type": "code",
      "metadata": {
        "id": "VmesiphY38za"
      },
      "source": [
        "import tensorflow as tf\n",
        "from object_detection.utils import label_map_util\n",
        "from object_detection.utils import visualization_utils as viz_utils\n",
        "\n",
        "# If you only downloaded the model from github, put in the directory and run\n",
        "# 'Installing required libraries and scripts' segment to ensure its correct\n",
        "# operations.\n",
        "\n",
        "PATH_TO_MODEL_DIR = '/content/Detector_Model/Cat_Det_Model_Saved/saved_model'\n",
        "\n",
        "# Load saved model and build the detection function\n",
        "detect_fn = tf.saved_model.load(PATH_TO_MODEL_DIR)"
      ],
      "execution_count": null,
      "outputs": []
    },
    {
      "cell_type": "code",
      "metadata": {
        "id": "bh5iJmr8DwzN"
      },
      "source": [
        "from six import BytesIO\n",
        "\n",
        "def load_image_into_numpy_array(path):\n",
        "  img_data = tf.io.gfile.GFile(path, 'rb').read()\n",
        "  image = Image.open(BytesIO(img_data))\n",
        "  (im_width, im_height) = image.size\n",
        "  return np.array(image.getdata()).reshape(\n",
        "      (im_height, im_width, 3)).astype(np.uint8)"
      ],
      "execution_count": 19,
      "outputs": []
    },
    {
      "cell_type": "markdown",
      "metadata": {
        "id": "JFxYQcVqNkxO"
      },
      "source": [
        "The below script will run over all images we copied to '/content/cat_data/' and based on the filename - it will assing the cutout to a breed folder in the '/content/Classifier_Model/dataset'\n",
        "\n",
        "In this case it's possible. When your dataset isn't as organised - one image can produce cutouts of different classes - then store them in a single folder and then classify them manually to appropriate folders in the classifier dataset. "
      ]
    },
    {
      "cell_type": "code",
      "metadata": {
        "id": "2yNn4qoY8CsS"
      },
      "source": [
        "from tensorflow.keras.preprocessing import image as tfimage\n",
        "from PIL import Image \n",
        "from six import BytesIO\n",
        "import numpy as np\n",
        "import os\n",
        "import matplotlib.pyplot as plt\n",
        "import re\n",
        "%matplotlib inline\n",
        "\n",
        "# Path to read images from\n",
        "data_path = '/content/cat_data'\n",
        "\n",
        "file_list = os.listdir(data_path)\n",
        "for file in file_list:\n",
        "  if file[-3:]=='jpg':\n",
        "    path = os.path.join(data_path, file)\n",
        "    print(path)\n",
        "    \n",
        "    # Here we open image for cutout operations\n",
        "    im = Image.open(path)\n",
        "\n",
        "    # This segment of the code is for handling 4-channel png images.\n",
        "    # rgb_im = im.convert('RGB')\n",
        "    # path = path[:-3] + 'png'\n",
        "    # rgb_im.save(path)\n",
        "\n",
        "    # Here we load iamge for the model\n",
        "    image_np = load_image_into_numpy_array(path)\n",
        "    input_tensor = tf.convert_to_tensor(image_np)\n",
        "    input_tensor = input_tensor[tf.newaxis, ...]\n",
        "\n",
        "    # This is where the detection happens\n",
        "    detections = detect_fn(input_tensor)\n",
        "    detection_scores = detections['detection_scores'][0]\n",
        "    detection_boxes = detections['detection_boxes'][0]\n",
        "\n",
        "    confidence_threshold = 0.5\n",
        "    # Having size of the image and detection boxes from the detector we can\n",
        "    # extract cutouts of detected models withing a given threshold.  \n",
        "    width, height = im.size \n",
        "    for box, score in zip(detection_boxes, detection_scores):\n",
        "      left = width*box[1].numpy()\n",
        "      top = height*box[0].numpy()\n",
        "      right = width*box[3].numpy()\n",
        "      bottom = height*box[2].numpy()\n",
        "      if score < confidence_threshold:\n",
        "        break\n",
        "      \n",
        "      # Save cropped image of above dimension \n",
        "      im1 = im.crop((left, top, right, bottom)) \n",
        "      plt.imshow(im1)\n",
        "      plt.axis('off')\n",
        "      filename = file[:-4] \n",
        "      save_path = '/content/Classifier_Model/dataset/' + \" \".join(re.findall(\"[a-zA-Z]+\", filename)) + '/' + filename + '.jpg'\n",
        "      plt.savefig(save_path)\n",
        "      print(save_path)\n",
        "      plt.show()"
      ],
      "execution_count": null,
      "outputs": []
    },
    {
      "cell_type": "code",
      "metadata": {
        "colab": {
          "base_uri": "https://localhost:8080/"
        },
        "id": "52Y1qBav8IN5",
        "outputId": "40b112d6-46ca-47db-eaee-3386675ef5eb"
      },
      "source": [
        "import os\n",
        "for breed in os.listdir('/content/Classifier_Model/dataset'):\n",
        "  print('Breed: {} number of files:{}'.format(breed, len(os.listdir(os.path.join('/content/Classifier_Model/dataset', breed)))))"
      ],
      "execution_count": 13,
      "outputs": [
        {
          "output_type": "stream",
          "text": [
            "Breed: Unknown number of files:150\n",
            "Breed: Russian Blue number of files:191\n",
            "Breed: British Shorthair number of files:185\n",
            "Breed: Siamese number of files:199\n",
            "Breed: Maine Coon number of files:200\n",
            "Breed: Bengal number of files:176\n",
            "Breed: Persian number of files:160\n",
            "Breed: Bombay number of files:176\n",
            "Breed: Sphynx number of files:197\n",
            "Breed: Ragdoll number of files:183\n",
            "Breed: Abyssinian number of files:190\n",
            "Breed: Birman number of files:196\n",
            "Breed: Egyptian Mau number of files:180\n"
          ],
          "name": "stdout"
        }
      ]
    },
    {
      "cell_type": "markdown",
      "metadata": {
        "id": "kP4kJuI5hHxD"
      },
      "source": [
        "## Dataset split"
      ]
    },
    {
      "cell_type": "markdown",
      "metadata": {
        "id": "r5znDF2L43EE"
      },
      "source": [
        "This segment can be run without launching any of the previous segments."
      ]
    },
    {
      "cell_type": "code",
      "metadata": {
        "id": "2CJ8YxgHsnBr"
      },
      "source": [
        "import os\n",
        "os.mkdir('/content/Classifier_Model')"
      ],
      "execution_count": 16,
      "outputs": []
    },
    {
      "cell_type": "markdown",
      "metadata": {
        "id": "MYb5Vvov4_ns"
      },
      "source": [
        "You either need a kaggle.json you can create on your kaggle account, or just download the dataset and upload to Colab manually."
      ]
    },
    {
      "cell_type": "code",
      "metadata": {
        "id": "Y62yzy3Oz1mp"
      },
      "source": [
        "!cp /content/kaggle.json ~/.kaggle/kaggle.json"
      ],
      "execution_count": 9,
      "outputs": []
    },
    {
      "cell_type": "code",
      "metadata": {
        "colab": {
          "base_uri": "https://localhost:8080/"
        },
        "id": "-cU44l43zFKU",
        "outputId": "439c757a-297a-4fd0-8edf-17c8cb91df9d"
      },
      "source": [
        "!kaggle datasets download arturkpka/cutouts-cat-breeds"
      ],
      "execution_count": 10,
      "outputs": [
        {
          "output_type": "stream",
          "text": [
            "Warning: Your Kaggle API key is readable by other users on this system! To fix this, you can run 'chmod 600 /root/.kaggle/kaggle.json'\n",
            "Downloading cutouts-cat-breeds.zip to /content\n",
            " 82% 41.0M/50.3M [00:00<00:00, 49.2MB/s]\n",
            "100% 50.3M/50.3M [00:00<00:00, 93.3MB/s]\n"
          ],
          "name": "stdout"
        }
      ]
    },
    {
      "cell_type": "code",
      "metadata": {
        "id": "ruOo-qAg0YvI"
      },
      "source": [
        "from zipfile import ZipFile\n",
        "\n",
        "with ZipFile('/content/cutouts-cat-breeds.zip', 'r') as zipObj:\n",
        "   zipObj.extractall('/content/Classifier_Model')"
      ],
      "execution_count": 17,
      "outputs": []
    },
    {
      "cell_type": "markdown",
      "metadata": {
        "id": "VibJfmMG5HEV"
      },
      "source": [
        "Make sure the dataset ends up in '/content/Classifier_Model/dataset' path.\n",
        "\n",
        "Below script splits data into train and test sets. You can modify the split size."
      ]
    },
    {
      "cell_type": "code",
      "metadata": {
        "id": "bwfw6lx-hLXu"
      },
      "source": [
        "import random\n",
        "import shutil\n",
        "raw_data_dir = '/content/Classifier_Model/dataset'\n",
        "split = 0.2\n",
        "\n",
        "test_dir = '/content/Classifier_Model/test/'\n",
        "train_dir = '/content/Classifier_Model/train/'\n",
        "\n",
        "os.mkdir(test_dir)\n",
        "os.mkdir(train_dir)\n",
        "\n",
        "for label in os.listdir(raw_data_dir):\n",
        "  label_dir = os.path.join(raw_data_dir, label)\n",
        "  if os.path.isdir(label_dir):\n",
        "    file_list = os.listdir(label_dir)\n",
        "    random.shuffle(file_list)\n",
        "    if len(file_list) >= 10:\n",
        "      test_label_dir = os.path.join(test_dir, label)\n",
        "      train_label_dir = os.path.join(train_dir, label)\n",
        "      os.mkdir(test_label_dir)\n",
        "      os.mkdir(train_label_dir)\n",
        "      file_list_test = file_list[ int((1-split)*len(file_list)): ]\n",
        "      file_list_train = file_list[ :int((1-split)*len(file_list)) ]\n",
        "      for file in file_list_test:\n",
        "        shutil.copyfile(os.path.join(label_dir, file), os.path.join(test_label_dir, file))\n",
        "      for file in file_list_train:\n",
        "        shutil.copyfile(os.path.join(label_dir, file), os.path.join(train_label_dir, file))"
      ],
      "execution_count": 18,
      "outputs": []
    },
    {
      "cell_type": "markdown",
      "metadata": {
        "id": "3KMfR9Neg6H4"
      },
      "source": [
        "## Classifier Model"
      ]
    },
    {
      "cell_type": "markdown",
      "metadata": {
        "id": "0XLni0k05ZaO"
      },
      "source": [
        "Below we prepare our files to be \"feed-able\" to the classifying model."
      ]
    },
    {
      "cell_type": "code",
      "metadata": {
        "id": "rxzYJOzjg9TR",
        "colab": {
          "base_uri": "https://localhost:8080/"
        },
        "outputId": "7fba89a3-bb28-4169-cc0b-d82d310ce118"
      },
      "source": [
        "import tensorflow as tf\n",
        "import keras_preprocessing\n",
        "from keras_preprocessing import image\n",
        "from keras_preprocessing.image import ImageDataGenerator\n",
        "\n",
        "training_datagen = ImageDataGenerator(rescale = 1./255,\n",
        "    rotation_range=40,\n",
        "    width_shift_range=0.2,\n",
        "    height_shift_range=0.2,\n",
        "    shear_range=0.2,\n",
        "    zoom_range=0.2,\n",
        "    horizontal_flip=True,\n",
        "    fill_mode='nearest')\n",
        "\n",
        "testing_datagen = ImageDataGenerator(rescale = 1./255)\n",
        "\n",
        "train_generator = training_datagen.flow_from_directory(\n",
        "    test_dir,\n",
        "    target_size=(200, 200),\n",
        "    class_mode='categorical',\n",
        "    batch_size = 16\n",
        ")\n",
        "\n",
        "test_generator = testing_datagen.flow_from_directory(\n",
        "    train_dir,\n",
        "    target_size=(200, 200),\n",
        "    class_mode='categorical',\n",
        "    batch_size = 16\n",
        ")"
      ],
      "execution_count": 19,
      "outputs": [
        {
          "output_type": "stream",
          "text": [
            "Found 451 images belonging to 12 classes.\n",
            "Found 1782 images belonging to 12 classes.\n"
          ],
          "name": "stdout"
        }
      ]
    },
    {
      "cell_type": "code",
      "metadata": {
        "id": "8v0Bq7OiYIYz",
        "colab": {
          "base_uri": "https://localhost:8080/"
        },
        "outputId": "ab50d74d-1d48-448c-a8fa-156136bd9710"
      },
      "source": [
        "# Load the Xception model wihtout the top - classifying - layer.\n",
        "base_model = tf.keras.applications.Xception(weights='imagenet', include_top=False)"
      ],
      "execution_count": 20,
      "outputs": [
        {
          "output_type": "stream",
          "text": [
            "Downloading data from https://storage.googleapis.com/tensorflow/keras-applications/xception/xception_weights_tf_dim_ordering_tf_kernels_notop.h5\n",
            "83689472/83683744 [==============================] - 1s 0us/step\n"
          ],
          "name": "stdout"
        }
      ]
    },
    {
      "cell_type": "code",
      "metadata": {
        "id": "Z1V6baSvY62-"
      },
      "source": [
        "# Turn of trainability of the loaded layers - they're already trained and \n",
        "# and extract features from the images we can than teach our classifying layers \n",
        "base_model.trainable = False"
      ],
      "execution_count": 31,
      "outputs": []
    },
    {
      "cell_type": "code",
      "metadata": {
        "id": "g4JLGAIzi3zF"
      },
      "source": [
        "# Change number of classes depending on your case\n",
        "number_of_classes = 6\n",
        "\n",
        "model = tf.keras.Sequential([\n",
        "    # Untrainable base model\n",
        "    base_model,\n",
        "    # Trainable classification layers\n",
        "    tf.keras.layers.BatchNormalization(),\n",
        "    tf.keras.layers.GlobalAveragePooling2D(),\n",
        "    tf.keras.layers.Dropout(0.5),\n",
        "    tf.keras.layers.Dense(512, activation='relu'),\n",
        "    tf.keras.layers.Dropout(0.5),\n",
        "    tf.keras.layers.Dense(number_of_classes, activation='softmax')\n",
        "\n",
        "])"
      ],
      "execution_count": 23,
      "outputs": []
    },
    {
      "cell_type": "code",
      "metadata": {
        "id": "WfZUXAOUY9kv"
      },
      "source": [
        "from tensorflow.keras.optimizers import RMSprop\n",
        "\n",
        "optimizer = RMSprop(lr=0.001, rho=0.9)\n",
        "model.compile(optimizer=optimizer,\n",
        "              loss='categorical_crossentropy',\n",
        "              metrics=[\"accuracy\"])"
      ],
      "execution_count": 24,
      "outputs": []
    },
    {
      "cell_type": "code",
      "metadata": {
        "colab": {
          "base_uri": "https://localhost:8080/"
        },
        "id": "pbRrgsmbi_qe",
        "outputId": "0f20d912-8968-4dd9-8f7f-d160419089b6"
      },
      "source": [
        "history = model.fit(\n",
        "    train_generator, validation_data=test_generator,\n",
        "    epochs = 40\n",
        ")"
      ],
      "execution_count": 25,
      "outputs": [
        {
          "output_type": "stream",
          "text": [
            "Epoch 1/40\n",
            "29/29 [==============================] - 48s 444ms/step - loss: 2.2104 - accuracy: 0.3301 - val_loss: 1.1446 - val_accuracy: 0.6195\n",
            "Epoch 2/40\n",
            "29/29 [==============================] - 11s 395ms/step - loss: 1.2796 - accuracy: 0.6086 - val_loss: 0.9558 - val_accuracy: 0.6841\n",
            "Epoch 3/40\n",
            "29/29 [==============================] - 11s 392ms/step - loss: 1.1145 - accuracy: 0.6338 - val_loss: 0.7759 - val_accuracy: 0.7351\n",
            "Epoch 4/40\n",
            "29/29 [==============================] - 11s 391ms/step - loss: 0.9698 - accuracy: 0.7093 - val_loss: 0.7414 - val_accuracy: 0.7447\n",
            "Epoch 5/40\n",
            "29/29 [==============================] - 11s 393ms/step - loss: 1.0011 - accuracy: 0.7007 - val_loss: 0.7037 - val_accuracy: 0.7520\n",
            "Epoch 6/40\n",
            "29/29 [==============================] - 11s 399ms/step - loss: 0.8610 - accuracy: 0.7261 - val_loss: 0.6700 - val_accuracy: 0.7604\n",
            "Epoch 7/40\n",
            "29/29 [==============================] - 11s 394ms/step - loss: 0.7704 - accuracy: 0.7653 - val_loss: 0.6918 - val_accuracy: 0.7447\n",
            "Epoch 8/40\n",
            "29/29 [==============================] - 12s 404ms/step - loss: 0.9261 - accuracy: 0.7130 - val_loss: 0.6561 - val_accuracy: 0.7767\n",
            "Epoch 9/40\n",
            "29/29 [==============================] - 11s 399ms/step - loss: 0.7023 - accuracy: 0.7531 - val_loss: 0.6624 - val_accuracy: 0.7654\n",
            "Epoch 10/40\n",
            "29/29 [==============================] - 12s 405ms/step - loss: 0.8652 - accuracy: 0.7134 - val_loss: 0.7182 - val_accuracy: 0.7581\n",
            "Epoch 11/40\n",
            "29/29 [==============================] - 12s 404ms/step - loss: 0.5386 - accuracy: 0.8241 - val_loss: 0.6380 - val_accuracy: 0.7845\n",
            "Epoch 12/40\n",
            "29/29 [==============================] - 11s 399ms/step - loss: 0.7677 - accuracy: 0.7680 - val_loss: 0.6694 - val_accuracy: 0.7935\n",
            "Epoch 13/40\n",
            "29/29 [==============================] - 11s 395ms/step - loss: 0.7250 - accuracy: 0.7624 - val_loss: 0.6695 - val_accuracy: 0.7929\n",
            "Epoch 14/40\n",
            "29/29 [==============================] - 11s 393ms/step - loss: 0.6437 - accuracy: 0.8193 - val_loss: 0.6306 - val_accuracy: 0.8008\n",
            "Epoch 15/40\n",
            "29/29 [==============================] - 11s 397ms/step - loss: 0.6461 - accuracy: 0.7876 - val_loss: 0.6940 - val_accuracy: 0.7941\n",
            "Epoch 16/40\n",
            "29/29 [==============================] - 11s 396ms/step - loss: 0.5884 - accuracy: 0.8220 - val_loss: 0.6674 - val_accuracy: 0.7980\n",
            "Epoch 17/40\n",
            "29/29 [==============================] - 11s 393ms/step - loss: 0.7168 - accuracy: 0.7781 - val_loss: 0.6756 - val_accuracy: 0.7952\n",
            "Epoch 18/40\n",
            "29/29 [==============================] - 11s 396ms/step - loss: 0.6509 - accuracy: 0.8065 - val_loss: 0.8268 - val_accuracy: 0.7632\n",
            "Epoch 19/40\n",
            "29/29 [==============================] - 11s 398ms/step - loss: 0.6283 - accuracy: 0.7969 - val_loss: 0.7488 - val_accuracy: 0.7896\n",
            "Epoch 20/40\n",
            "29/29 [==============================] - 11s 397ms/step - loss: 0.6758 - accuracy: 0.8115 - val_loss: 0.7559 - val_accuracy: 0.7907\n",
            "Epoch 21/40\n",
            "29/29 [==============================] - 11s 398ms/step - loss: 0.6830 - accuracy: 0.7639 - val_loss: 0.6611 - val_accuracy: 0.8126\n",
            "Epoch 22/40\n",
            "29/29 [==============================] - 11s 395ms/step - loss: 0.5492 - accuracy: 0.8205 - val_loss: 0.7221 - val_accuracy: 0.7957\n",
            "Epoch 23/40\n",
            "29/29 [==============================] - 11s 394ms/step - loss: 0.4316 - accuracy: 0.8462 - val_loss: 0.7207 - val_accuracy: 0.7974\n",
            "Epoch 24/40\n",
            "29/29 [==============================] - 11s 401ms/step - loss: 0.9467 - accuracy: 0.7428 - val_loss: 0.7207 - val_accuracy: 0.7890\n",
            "Epoch 25/40\n",
            "29/29 [==============================] - 11s 402ms/step - loss: 0.7036 - accuracy: 0.7759 - val_loss: 0.7553 - val_accuracy: 0.8064\n",
            "Epoch 26/40\n",
            "29/29 [==============================] - 11s 395ms/step - loss: 0.6613 - accuracy: 0.7990 - val_loss: 0.7403 - val_accuracy: 0.8053\n",
            "Epoch 27/40\n",
            "29/29 [==============================] - 11s 396ms/step - loss: 0.7066 - accuracy: 0.8115 - val_loss: 0.7294 - val_accuracy: 0.8025\n",
            "Epoch 28/40\n",
            "29/29 [==============================] - 11s 396ms/step - loss: 0.6365 - accuracy: 0.8138 - val_loss: 0.6890 - val_accuracy: 0.8098\n",
            "Epoch 29/40\n",
            "29/29 [==============================] - 11s 395ms/step - loss: 0.5463 - accuracy: 0.8306 - val_loss: 0.6746 - val_accuracy: 0.8053\n",
            "Epoch 30/40\n",
            "29/29 [==============================] - 11s 396ms/step - loss: 0.6877 - accuracy: 0.7835 - val_loss: 0.7086 - val_accuracy: 0.7963\n",
            "Epoch 31/40\n",
            "29/29 [==============================] - 11s 401ms/step - loss: 0.6799 - accuracy: 0.8076 - val_loss: 0.7209 - val_accuracy: 0.7918\n",
            "Epoch 32/40\n",
            "29/29 [==============================] - 11s 397ms/step - loss: 0.6105 - accuracy: 0.8144 - val_loss: 0.7236 - val_accuracy: 0.8019\n",
            "Epoch 33/40\n",
            "29/29 [==============================] - 11s 393ms/step - loss: 0.6059 - accuracy: 0.8380 - val_loss: 0.7509 - val_accuracy: 0.7963\n",
            "Epoch 34/40\n",
            "29/29 [==============================] - 11s 395ms/step - loss: 0.3991 - accuracy: 0.8898 - val_loss: 0.7645 - val_accuracy: 0.8092\n",
            "Epoch 35/40\n",
            "29/29 [==============================] - 11s 395ms/step - loss: 0.6544 - accuracy: 0.8044 - val_loss: 0.7720 - val_accuracy: 0.8047\n",
            "Epoch 36/40\n",
            "29/29 [==============================] - 11s 394ms/step - loss: 0.6105 - accuracy: 0.8314 - val_loss: 0.7624 - val_accuracy: 0.8053\n",
            "Epoch 37/40\n",
            "29/29 [==============================] - 11s 400ms/step - loss: 0.7291 - accuracy: 0.8023 - val_loss: 0.7879 - val_accuracy: 0.8030\n",
            "Epoch 38/40\n",
            "29/29 [==============================] - 11s 395ms/step - loss: 0.6456 - accuracy: 0.8162 - val_loss: 0.8128 - val_accuracy: 0.7952\n",
            "Epoch 39/40\n",
            "29/29 [==============================] - 11s 397ms/step - loss: 0.5642 - accuracy: 0.8423 - val_loss: 0.7730 - val_accuracy: 0.8109\n",
            "Epoch 40/40\n",
            "29/29 [==============================] - 11s 394ms/step - loss: 0.3961 - accuracy: 0.8625 - val_loss: 0.8045 - val_accuracy: 0.7974\n"
          ],
          "name": "stdout"
        }
      ]
    },
    {
      "cell_type": "code",
      "metadata": {
        "colab": {
          "base_uri": "https://localhost:8080/",
          "height": 623
        },
        "id": "ayejYdVtjFDe",
        "outputId": "e8c8f42e-e4b3-490b-81e0-57b4aff917e8"
      },
      "source": [
        "import matplotlib.pyplot as plt\n",
        "\n",
        "epochs = len(history.history['loss'])\n",
        "plt.figure(figsize=(10,5))\n",
        "plt.plot(range(epochs), history.history['accuracy'], label='accuracy')\n",
        "plt.plot(range(epochs), history.history['loss'], label='loss')\n",
        "plt.legend()\n",
        "plt.show()\n",
        "\n",
        "plt.figure(figsize=(10,5))\n",
        "plt.plot(range(epochs), history.history['val_accuracy'], label='validation accuracy')\n",
        "plt.plot(range(epochs), history.history['val_loss'], label='validation loss')\n",
        "plt.legend()\n",
        "plt.show()"
      ],
      "execution_count": 28,
      "outputs": [
        {
          "output_type": "display_data",
          "data": {
            "image/png": "[encoded data removed]",
            "text/plain": [
              "<Figure size 720x360 with 1 Axes>"
            ]
          },
          "metadata": {
            "tags": [],
            "needs_background": "light"
          }
        },
        {
          "output_type": "display_data",
          "data": {
            "image/png": "[encoded data removed]",
            "text/plain": [
              "<Figure size 720x360 with 1 Axes>"
            ]
          },
          "metadata": {
            "tags": [],
            "needs_background": "light"
          }
        }
      ]
    },
    {
      "cell_type": "markdown",
      "metadata": {
        "id": "mxfrwh_Jxzfj"
      },
      "source": [
        "## Adding a new class - in this case an \"unknown\" class"
      ]
    },
    {
      "cell_type": "markdown",
      "metadata": {
        "id": "NyDIpDSGyFXY"
      },
      "source": [
        "Let's crawl Bing for some pics of cats."
      ]
    },
    {
      "cell_type": "code",
      "metadata": {
        "id": "h0aakFIdyQ36"
      },
      "source": [
        "!pip3 install icrawler\n",
        "from icrawler.builtin import BingImageCrawler"
      ],
      "execution_count": null,
      "outputs": []
    },
    {
      "cell_type": "code",
      "metadata": {
        "id": "H7iNJdnTysPg"
      },
      "source": [
        "def Fetch_Photos(name, save_dir, num):\n",
        "  make_dir = save_dir + str(name) + \"/\" \n",
        "  !mkdir make_dir\n",
        "  google_crawler = BingImageCrawler(storage={'root_dir' : make_dir})\n",
        "  google_crawler.crawl(keyword=name, max_num=num)"
      ],
      "execution_count": 24,
      "outputs": []
    },
    {
      "cell_type": "code",
      "metadata": {
        "id": "i4HmS3hoy2N7"
      },
      "source": [
        "Fetch_Photos('cat', '/content/bing_cats', 200)"
      ],
      "execution_count": null,
      "outputs": []
    },
    {
      "cell_type": "markdown",
      "metadata": {
        "id": "dboy8cjg6ODd"
      },
      "source": [
        "We need to create folder for our new class in the dataset"
      ]
    },
    {
      "cell_type": "code",
      "metadata": {
        "id": "R-wyHAlU_xSU"
      },
      "source": [
        "os.mkdir('/content/Classifier_Model/dataset/Unknown')"
      ],
      "execution_count": 28,
      "outputs": []
    },
    {
      "cell_type": "markdown",
      "metadata": {
        "id": "f4Wv-61h6Zh1"
      },
      "source": [
        "And then run the above script to extract cutouts."
      ]
    },
    {
      "cell_type": "code",
      "metadata": {
        "id": "lj5QdEYSx2Tx"
      },
      "source": [
        "from tensorflow.keras.preprocessing import image as tfimage\n",
        "import tensorflow as tf\n",
        "from PIL import Image \n",
        "from six import BytesIO\n",
        "import numpy as np\n",
        "import os\n",
        "import matplotlib.pyplot as plt\n",
        "%matplotlib inline\n",
        "from six import BytesIO\n",
        "\n",
        "def load_image_into_numpy_array(path):\n",
        "  img_data = tf.io.gfile.GFile(path, 'rb').read()\n",
        "  image = Image.open(BytesIO(img_data))\n",
        "  (im_width, im_height) = image.size\n",
        "  return np.array(image.getdata()).reshape(\n",
        "      (im_height, im_width, 3)).astype(np.uint8)\n",
        "\n",
        "\n",
        "data_path = '/content/bing_catscat'\n",
        "folders = os.listdir(data_path)\n",
        "i=0\n",
        "\n",
        "file_list = os.listdir(data_path)\n",
        "for file in file_list:\n",
        "  if file[-3:]=='jpg':\n",
        "    path = os.path.join(data_path, file)\n",
        "    im = Image.open(path)\n",
        "    rgb_im = im.convert('RGB')\n",
        "\n",
        "    path = path[:-3] + 'jpg'\n",
        "\n",
        "    rgb_im.save(path)\n",
        "\n",
        "    image_np = load_image_into_numpy_array(path)\n",
        "    \n",
        "    input_tensor = tf.convert_to_tensor(image_np)\n",
        "    input_tensor = input_tensor[tf.newaxis, ...]\n",
        "\n",
        "    detections = detect_fn(input_tensor)\n",
        "    detection_scores = detections['detection_scores'][0]\n",
        "    detection_boxes = detections['detection_boxes'][0]\n",
        "\n",
        "    width, height = im.size \n",
        "\n",
        "    for box, score in zip(detection_boxes, detection_scores):\n",
        "      left = width*box[1].numpy()\n",
        "      top = height*box[0].numpy()\n",
        "      right = width*box[3].numpy()\n",
        "      bottom = height*box[2].numpy()\n",
        "      if score < .5:\n",
        "        break\n",
        "      \n",
        "      im1 = im.crop((left, top, right, bottom)) \n",
        "      plt.imshow(im1)\n",
        "      plt.axis('off')\n",
        "      # Shows the image in image viewer \n",
        "      filename = file[:-4]\n",
        "      plt.savefig('/content/Classifier_Model/dataset/Unknown/cat_' + str(i) + '.jpg', )\n",
        "      plt.show()\n",
        "      i+=1"
      ],
      "execution_count": null,
      "outputs": []
    },
    {
      "cell_type": "markdown",
      "metadata": {
        "id": "NscHtRau6d9n"
      },
      "source": [
        "After the process finishes - it's important to see if there aren't examples of already established classes in our new class folder. We need to assign those files to appropriate folders in order to ensure high training accuracy."
      ]
    }
  ]
}